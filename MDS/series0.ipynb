{
 "cells": [
  {
   "cell_type": "code",
   "execution_count": 21,
   "metadata": {},
   "outputs": [
    {
     "data": {
      "text/plain": [
       "0       02/01/2016\n",
       "1       02/01/2016\n",
       "2       02/01/2016\n",
       "3       02/01/2016\n",
       "4       02/01/2016\n",
       "           ...    \n",
       "1118    04/02/2018\n",
       "1119    04/17/2018\n",
       "1120    04/17/2018\n",
       "1121    04/17/2018\n",
       "1122    04/24/2018\n",
       "Name: FECHA, Length: 1123, dtype: object"
      ]
     },
     "execution_count": 21,
     "metadata": {},
     "output_type": "execute_result"
    }
   ],
   "source": [
    "import pandas as pd\n",
    "\n",
    "\n",
    "data= pd.read_csv(\"Incendios_Forestales_Uaegrd.csv\", parse_dates= ['FECHA'])\n",
    "\n",
    "data['FECHA']\n"
   ]
  },
  {
   "cell_type": "code",
   "execution_count": null,
   "metadata": {},
   "outputs": [],
   "source": []
  }
 ],
 "metadata": {
  "kernelspec": {
   "display_name": "Python 3",
   "language": "python",
   "name": "python3"
  },
  "language_info": {
   "codemirror_mode": {
    "name": "ipython",
    "version": 3
   },
   "file_extension": ".py",
   "mimetype": "text/x-python",
   "name": "python",
   "nbconvert_exporter": "python",
   "pygments_lexer": "ipython3",
   "version": "3.7.4"
  }
 },
 "nbformat": 4,
 "nbformat_minor": 4
}
